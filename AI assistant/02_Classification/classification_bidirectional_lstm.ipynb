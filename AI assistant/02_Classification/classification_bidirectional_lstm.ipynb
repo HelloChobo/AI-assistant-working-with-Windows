{
 "cells": [
  {
   "cell_type": "code",
   "execution_count": null,
   "id": "27d41550",
   "metadata": {
    "id": "27d41550"
   },
   "outputs": [],
   "source": [
    "def classification_bidirectional_lstm(text):\n",
    "    ############### ▼패키지 임포트▼ ###############\n",
    "    import numpy as np\n",
    "    import pickle\n",
    "    import tensorflow as tf\n",
    "    from tensorflow.keras.preprocessing.sequence import pad_sequences\n",
    "    from tensorflow.keras.models import Sequential\n",
    "    from tensorflow.keras.layers import Dense, LSTM, InputLayer, Bidirectional, TimeDistributed, Embedding\n",
    "    from tensorflow.keras.optimizers import Adam\n",
    "    from konlpy.tag import Mecab\n",
    "    ############### ▲패키지 임포트▲ ###############\n",
    "    \n",
    "    # 모델링에 사용한 토크나이저의 내부 단어장을 불러옵니다 \n",
    "    pickle_path = '분류기/Save_Vocab/'\n",
    "    with open(pickle_path + 'src_tokenizer.p', 'rb') as f:\n",
    "        src_tokenizer = pickle.load(f)\n",
    "    with open(pickle_path + 'tar_tokenizer.p', 'rb') as f:\n",
    "        tar_tokenizer = pickle.load(f)\n",
    "    \n",
    "    # 단어장의 '인덱스-단어, 인덱스-태그, 인덱스-단어 갯수, 인덱스-태그 갯수' 를 추출하여 변수로 받습니다\n",
    "    index_to_word = src_tokenizer.index_word\n",
    "    index_to_tag = tar_tokenizer.index_word\n",
    "    vocab_size = len(src_tokenizer.word_index) + 1\n",
    "    tag_size = len(tar_tokenizer.word_index) + 1\n",
    "\n",
    "    # 기학습한 모델을 생성합니다\n",
    "    max_len = 200\n",
    "    embedding_dim = 128\n",
    "    hidden_units = 128\n",
    "\n",
    "    model = Sequential()\n",
    "    model.add(Embedding(vocab_size, embedding_dim, mask_zero= True))\n",
    "    model.add(Bidirectional(LSTM(hidden_units, return_sequences= True)))\n",
    "    model.add(TimeDistributed(Dense(tag_size, activation= ('softmax'))))\n",
    "    model.compile(loss='sparse_categorical_crossentropy', optimizer=Adam(0.001), metrics=['accuracy'])\n",
    "    \n",
    "    # 모델의 가중치를 불러옵니다\n",
    "    saved_path = '분류기/Save_Model/bidirectional_lstm_(final)_Project_tags/'\n",
    "    model.load_weights(saved_path + 'bidirectional_lstm_(final)_Project_tags')\n",
    "    \n",
    "    # '형태소 분석기 프로젝트 \"은전한닢\"' 의 mecab 을 불러와 객체화합니다 \n",
    "    mecab = Mecab(dicpath = r\"분류기/BiLSTM_Model/mecab/mecab-ko-dic\")\n",
    "    # 입력 text를 받아 형태소 분리를 합니다\n",
    "    morpheme = mecab.morphs(text)\n",
    "\n",
    "    # 분리된 형태소를 모델의 예측을 통해 형태소 분리된 단어들과 예측된 태그들을 최종 출력값으로 return 합니다\n",
    "    result_sen = []\n",
    "    result_tag = []\n",
    "\n",
    "    for i in range(len(morpheme)):\n",
    "        sample = src_tokenizer.texts_to_sequences(morpheme)\n",
    "        sample = pad_sequences(sample, padding= 'post', maxlen=max_len)\n",
    "\n",
    "\n",
    "        y_predicted = model.predict(np.array([sample[i]]))\n",
    "        y_predicted = np.argmax(y_predicted, axis= -1)\n",
    "\n",
    "        for word, pred in zip(sample[i], y_predicted[0]):\n",
    "            if word != 0:\n",
    "                result_sen.append(index_to_word[word])\n",
    "                result_tag.append(index_to_tag[pred].upper())\n",
    "    \n",
    "    return result_sen, result_tag"
   ]
  }
 ],
 "metadata": {
  "colab": {
   "collapsed_sections": [],
   "name": "classification_bidirectional_lstm.ipynb",
   "provenance": []
  },
  "kernelspec": {
   "display_name": "Python 3 (ipykernel)",
   "language": "python",
   "name": "python3"
  },
  "language_info": {
   "codemirror_mode": {
    "name": "ipython",
    "version": 3
   },
   "file_extension": ".py",
   "mimetype": "text/x-python",
   "name": "python",
   "nbconvert_exporter": "python",
   "pygments_lexer": "ipython3",
   "version": "3.9.7"
  }
 },
 "nbformat": 4,
 "nbformat_minor": 5
}
