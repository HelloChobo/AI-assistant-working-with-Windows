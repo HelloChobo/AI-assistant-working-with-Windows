{
 "cells": [
  {
   "cell_type": "code",
   "execution_count": 5,
   "id": "780c34b0",
   "metadata": {},
   "outputs": [],
   "source": [
    "def Jarvis() :\n",
    "    ############### ▼패키지 임포트▼ ###############\n",
    "    import IPython.display as ipy\n",
    "    import subprocess, os\n",
    "    from 입력단 import input_final_code as ifc\n",
    "    from 분류기 import classifier_final_code as cfc\n",
    "    from 시스템.Get_Weather import get_today_weather as gtw\n",
    "    from 시스템.Control_Monitor import monitor_control as mc\n",
    "    from 시스템.Control_Gesture import ppt_motion_action as pma\n",
    "    from 출력단 import google_tts as tts\n",
    "    ############### ▲패키지 임포트▲ ###############\n",
    "    \n",
    "    #################### ▼함수 선언▼ ####################\n",
    "    # 파일을 실행해주는 함수 입니다.\n",
    "    def 실행및종료(path, act) :\n",
    "        if act in [0, 4, 8] :                         # act 변수의 값이 [0, 4, 8] 안에 있다면\n",
    "            os.startfile(path)                        # path 변수에 저장된 경로의 파일을 실행합니다.\n",
    "        if act in [1, 5, 9] :                         # act 변수의 값이 [1, 5, 9] 안에 있다면\n",
    "            os.system('taskkill /f /im POWERPNT.EXE') # 프로세스명을 이용하여 프로세스를 강제 종료합니다.        \n",
    "    #################### ▲함수 선언▲ ####################\n",
    "    # TAS에 저장된 값을 인덱스 번호로 반환하기 위한 딕셔너리 변수 입니다.\n",
    "    TAS = {0: 'ppt', 1: '피피티', 2: 'powerpoint', 3: '프레젠테이션', 4: '프리젠테이션', 5: '인터넷', 6: 'internet',\n",
    "           7: '웹', 8: 'web', 9: '네이버', 10: 'naver', 11: '구글', 12: 'google', 13: '컴퓨터', 14: '가상 마우스',\n",
    "           15: '마우스', 16: '제스처모드', 17: '읽기모드', 18: '리더모드', 19: 'redermode', 20: '헬기모드',\n",
    "           21: '파일', 22: 'file', 23: '폴더', 24: 'forder', 25: '날씨'}\n",
    "    \n",
    "    # ACT에 저장된 값을 인덱스 번호로 반환하기 위한 딕셔너리 변수 입니다.\n",
    "    ACT = {0: '켜', 1: '꺼', 2: '보여', 3: '보고', 4: '실행', 5: '종료', 6: '옮겨', 7: '이동', 8: '알려줘'}\n",
    "    \n",
    "    호출어 = ['자비스', '자베스', '차베스']\n",
    "    \n",
    "    # 데스크탑 기반 인공지능 음성 비서를 수행합니다.\n",
    "    while 1 :\n",
    "        text = ifc.VoiceCollect() # 음성을 수집합니다.\n",
    "        print('1.', text)\n",
    "\n",
    "        # 호출어를 입력받으면 음성 비서가 기능을 수행합니다.\n",
    "        if text in 호출어 :                                 # 문장 속 호출어가 있는지 확인합니다.\n",
    "            display(ipy.Audio('호출음.wav', autoplay=True)) # 호출어가 입력되면 응답 소리를 출력합니다.\n",
    "            text = ifc.VoiceCollect()                       # 명령을 수집합니다.\n",
    "            print('2.', text)                                     # 수집된 음성을 출력하여 보여줍니다.\n",
    "            command_dict = cfc.classifier(text)             # 분류기에서 명령문을 토큰별로 나누어 딕셔너리 형태로 반환받습니다.\n",
    "            print('3. command_dict -', command_dict)           # 반환 받은 딕셔너리를 출력하여 보여줍니다.\n",
    "\n",
    "            # 분류기에서 명령문을 토큰별로 나눈 딕셔너리 변수를 사용하여 기능을 수행합니다.\n",
    "            # 조건1. 명령문에 여러 task가 들어올 수 있음 이를 순차적으로 처리해야 함.\n",
    "            # (ex: 바탕화면에 파워 포인트랑 메모장 켜줘 - loc[바탕화면], tas[파워 포인트, 메모장], act[켜줘])\n",
    "\n",
    "            # ACT와 TAS의 요소가 1개 이상일 때 제대로된 명령을 받았다고 판단하고 기능을 수행합니다.\n",
    "            if (len(command_dict['ACT']) > 0) and (len(command_dict['TAS']) > 0) :\n",
    "\n",
    "                # command_dict['TAS']의 값을 i 변수에 하나씩 넘겨주며 반복합니다.\n",
    "                for tas, act in zip(command_dict['TAS'], command_dict['ACT']) :\n",
    "                    for key in TAS.keys() :  # TAS의 키 값을 key 변수에 하나씩 넘겨주며 반복합니다.\n",
    "                        if TAS[key] == tas : # TAS의[key]의 값이 tas와 같다면\n",
    "                            tas_idx = key    # key 변수에 저장된 키 값을 tas_idx 변수에 넘겨줍니다.\n",
    "                            print(tas_idx)\n",
    "                            break\n",
    "\n",
    "                    for key in ACT.keys() :  # ACT의 키 값을 key 변수에 하나씩 넘겨주며 반복합니다.\n",
    "                        if ACT[key] == act : # ACT의[key]의 값이 tas와 같다면\n",
    "                            act_idx = key    # key 변수에 저장된 키 값을 act_idx 변수에 넘겨줍니다.\n",
    "                            print(act_idx)\n",
    "                            break\n",
    "\n",
    "                    # 반환 반은 idx 번호를 가지고 기능을 수행합니다.\n",
    "                    if (tas_idx in [0, 1, 2, 3, 4]) and (act_idx in [0, 1, 2, 4]) : # 파워포인트 실행/종료\n",
    "                        path = 'C:/Program Files/Microsoft Office/root/Office16/POWERPNT.EXE'\n",
    "                        실행및종료(path, tas_idx) # 꺼줘 안됨\n",
    "                    elif (tas_idx in [25]) and (act_idx in [8]) :                   # 오늘 날씨 리뷰\n",
    "                        tts.GoogleTTS(gtw.TodayWeather())\n",
    "                    elif (tas_idx in [17, 18, 19, 20]) and (act_idx in [0, 4]) :    # 읽기 모드 실행\n",
    "                        mc.MonitorControl()\n",
    "                    elif (tas_idx in [16]) and (act_idx in [0, 4]) :                # 제스쳐 모드 \n",
    "                        pma.ppt_motion_action()\n",
    "            else :\n",
    "                tts.GoogleTTS('잘못된 입력입니다. 다시 한번 말씀해주세요.') \n",
    "\n",
    "        elif '종료해줘' in text : # 문장 속 '종료해줘'라는 단어가 있다면\n",
    "            break                 # 반복을 종료합니다.\n",
    "        else :                    # 그렇지 않다면\n",
    "            continue              # 계속 반복합니다."
   ]
  },
  {
   "cell_type": "code",
   "execution_count": 6,
   "id": "a74e821d",
   "metadata": {
    "scrolled": false
   },
   "outputs": [
    {
     "name": "stdout",
     "output_type": "stream",
     "text": [
      "음성을 청취 중입니다.\n",
      "pred :  3\n",
      "log_likelihood :  [-14.84948602 -14.57838989 -14.89092261 -14.44580014]\n",
      "Recognized as -  박진완\n",
      "distance : 3756785.0\n",
      "1. 자비스\n"
     ]
    },
    {
     "data": {
      "text/html": [
       "\n",
       "                <audio  controls=\"controls\" autoplay=\"autoplay\">\n",
       "                    <source src=\"data:audio/wav;base64,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\" type=\"audio/wav\" />\n",
       "                    Your browser does not support the audio element.\n",
       "                </audio>\n",
       "              "
      ],
      "text/plain": [
       "<IPython.lib.display.Audio object>"
      ]
     },
     "metadata": {},
     "output_type": "display_data"
    },
    {
     "name": "stdout",
     "output_type": "stream",
     "text": [
      "음성을 청취 중입니다.\n",
      "pred :  3\n",
      "log_likelihood :  [-14.8450894  -14.57249496 -14.88656122 -14.43781961]\n",
      "Recognized as -  박진완\n",
      "distance : 5456617.0\n",
      "2. 오늘 날씨 알려줘\n",
      "WARNING:tensorflow:Detecting that an object or model or tf.train.Checkpoint is being deleted with unrestored values. See the following logs for the specific values in question. To silence these warnings, use `status.expect_partial()`. See https://www.tensorflow.org/api_docs/python/tf/train/Checkpoint#restorefor details about the status object returned by the restore function.\n",
      "WARNING:tensorflow:Value in checkpoint could not be found in the restored object: (root).optimizer.iter\n",
      "WARNING:tensorflow:Value in checkpoint could not be found in the restored object: (root).optimizer.beta_1\n",
      "WARNING:tensorflow:Value in checkpoint could not be found in the restored object: (root).optimizer.beta_2\n",
      "WARNING:tensorflow:Value in checkpoint could not be found in the restored object: (root).optimizer.decay\n",
      "WARNING:tensorflow:Value in checkpoint could not be found in the restored object: (root).optimizer.learning_rate\n",
      "1/1 [==============================] - 3s 3s/step\n",
      "1/1 [==============================] - 0s 28ms/step\n",
      "1/1 [==============================] - 0s 29ms/step\n",
      "1/1 [==============================] - 0s 29ms/step\n",
      "1/1 [==============================] - 0s 29ms/step\n",
      "3. command_dict - {'LOC': [], 'TIM': [], 'ACT': [], 'TAS': [], 'NUM': []}\n"
     ]
    },
    {
     "data": {
      "text/html": [
       "\n",
       "                <audio  controls=\"controls\" autoplay=\"autoplay\">\n",
       "                    <source src=\"data:audio/wav;base64,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\" type=\"audio/wav\" />\n",
       "                    Your browser does not support the audio element.\n",
       "                </audio>\n",
       "              "
      ],
      "text/plain": [
       "<IPython.lib.display.Audio object>"
      ]
     },
     "metadata": {},
     "output_type": "display_data"
    },
    {
     "name": "stdout",
     "output_type": "stream",
     "text": [
      "음성을 청취 중입니다.\n",
      "pred :  3\n",
      "log_likelihood :  [-14.84495631 -14.57230796 -14.88645369 -14.43857303]\n",
      "Recognized as -  박진완\n",
      "distance : 4169461.0\n",
      "1. 다시 한 번 말씀\n",
      "음성을 청취 중입니다.\n",
      "pred :  3\n",
      "log_likelihood :  [-14.84479834 -14.57209363 -14.88630173 -14.43826647]\n",
      "Recognized as -  박진완\n",
      "distance : 4444512.0\n",
      "1. 종료해줘\n"
     ]
    }
   ],
   "source": [
    "Jarvis()"
   ]
  },
  {
   "cell_type": "code",
   "execution_count": null,
   "id": "d31123f6",
   "metadata": {},
   "outputs": [],
   "source": []
  }
 ],
 "metadata": {
  "kernelspec": {
   "display_name": "py37",
   "language": "python",
   "name": "py37"
  },
  "language_info": {
   "codemirror_mode": {
    "name": "ipython",
    "version": 3
   },
   "file_extension": ".py",
   "mimetype": "text/x-python",
   "name": "python",
   "nbconvert_exporter": "python",
   "pygments_lexer": "ipython3",
   "version": "3.7.12"
  }
 },
 "nbformat": 4,
 "nbformat_minor": 5
}
